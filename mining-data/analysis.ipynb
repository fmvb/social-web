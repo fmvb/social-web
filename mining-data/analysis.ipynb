{
 "cells": [
  {
   "cell_type": "code",
   "execution_count": 70,
   "metadata": {
    "collapsed": false
   },
   "outputs": [],
   "source": [
    "import pandas as pd\n",
    "import numpy as np\n",
    "import matplotlib.pyplot as plt"
   ]
  },
  {
   "cell_type": "code",
   "execution_count": 71,
   "metadata": {
    "collapsed": true
   },
   "outputs": [],
   "source": [
    "def readData(filename):\n",
    "    fs = open('dataset/' + filename + '.dat', 'r')    \n",
    "    data = [line.strip().split('::') for line in fs]  \n",
    "    fs.close()                                        \n",
    "    return data\n",
    "    \n",
    "def trimLists(users, ratings):\n",
    "    for u in users:\n",
    "        del u[-1]    # remove last column: zipcode\n",
    "        del u[-1]    # remove last column: occupation\n",
    "    \n",
    "    for r in ratings:\n",
    "        del r[-1]    # remove last column: timestamp  "
   ]
  },
  {
   "cell_type": "code",
   "execution_count": 72,
   "metadata": {
    "collapsed": true
   },
   "outputs": [],
   "source": [
    "users   = readData('users')\n",
    "movies  = readData('movies')\n",
    "ratings = readData('ratings')\n",
    "trimLists(users, ratings)"
   ]
  },
  {
   "cell_type": "code",
   "execution_count": 73,
   "metadata": {
    "collapsed": false
   },
   "outputs": [
    {
     "name": "stdout",
     "output_type": "stream",
     "text": [
      "Female users: 1709   (6040 total users)\n",
      "Male   users: 4331   (6040 total users)\n"
     ]
    }
   ],
   "source": [
    "nrFemale = sum(1 for x in users if x[1] == 'F')\n",
    "nrMale   = len(users) - nrFemale\n",
    "\n",
    "print 'Female users: ' + `nrFemale` + '   (' + `len(users)` + ' total users)'\n",
    "print 'Male   users: ' + `nrMale`   + '   (' + `len(users)` + ' total users)'"
   ]
  },
  {
   "cell_type": "code",
   "execution_count": 74,
   "metadata": {
    "collapsed": false,
    "scrolled": true
   },
   "outputs": [],
   "source": [
    "udf = pd.DataFrame({ 'UserID' : pd.Series(row[0] for row in users),\n",
    "                     'Gender' : pd.Series(row[1] for row in users),\n",
    "                     'Age'    : pd.Series(row[2] for row in users)})\n",
    "mdf = pd.DataFrame({ 'MovieID' : pd.Series(row[0] for row in movies),\n",
    "                     'Title'   : pd.Series(row[1] for row in movies),\n",
    "                     'Genres'  : pd.Series(row[2] for row in movies)})\n",
    "rdf = pd.DataFrame({ 'UserID'  : pd.Series(row[0] for row in ratings),\n",
    "                     'MovieID' : pd.Series(row[1] for row in ratings),\n",
    "                     'Rating'  : pd.Series(row[2] for row in ratings)})"
   ]
  },
  {
   "cell_type": "code",
   "execution_count": 75,
   "metadata": {
    "collapsed": false
   },
   "outputs": [],
   "source": [
    "joined = pd.merge(pd.merge(udf, rdf, on='UserID'), mdf, on='MovieID')\n",
    "allratings = joined.groupby(['Gender', 'Age'])\n",
    "likes = joined.loc[result['Rating'].isin(['4','5'])].groupby(['Gender', 'Age'])"
   ]
  },
  {
   "cell_type": "code",
   "execution_count": 76,
   "metadata": {
    "collapsed": false
   },
   "outputs": [
    {
     "data": {
      "text/plain": [
       "Gender  Age\n",
       "F       1        8827\n",
       "        18      45427\n",
       "        25      91340\n",
       "        35      49473\n",
       "        45      24110\n",
       "        50      18064\n",
       "        56       9199\n",
       "M       1       18384\n",
       "        18     138109\n",
       "        25     304216\n",
       "        35     149530\n",
       "        45      59523\n",
       "        50      54426\n",
       "        56      29581\n",
       "dtype: int64"
      ]
     },
     "execution_count": 76,
     "metadata": {},
     "output_type": "execute_result"
    }
   ],
   "source": [
    "allratings.size()"
   ]
  },
  {
   "cell_type": "code",
   "execution_count": 77,
   "metadata": {
    "collapsed": false
   },
   "outputs": [
    {
     "data": {
      "text/plain": [
       "Gender  Age\n",
       "F       1        5337\n",
       "        18      23910\n",
       "        25      53537\n",
       "        35      29785\n",
       "        45      14677\n",
       "        50      11835\n",
       "        56       6498\n",
       "M       1       10273\n",
       "        18      76889\n",
       "        25     169017\n",
       "        35      86908\n",
       "        45      34799\n",
       "        50      33249\n",
       "        56      18567\n",
       "dtype: int64"
      ]
     },
     "execution_count": 77,
     "metadata": {},
     "output_type": "execute_result"
    }
   ],
   "source": [
    "likes.size()"
   ]
  },
  {
   "cell_type": "code",
   "execution_count": 94,
   "metadata": {
    "collapsed": true
   },
   "outputs": [],
   "source": [
    "def get_stats(group):\n",
    "    return {'min': group.min(), 'max': group.max(), 'count': group.count(), 'mean': group.mean()}\n",
    "\n",
    "genre_likes = joined.loc[result['Rating'].isin(['4','5'])].groupby(['Gender', 'Age', 'Genres'])"
   ]
  },
  {
   "cell_type": "code",
   "execution_count": 95,
   "metadata": {
    "collapsed": false
   },
   "outputs": [
    {
     "data": {
      "text/plain": [
       "Gender  Age  Genres                                       \n",
       "F       1    Action                                            12\n",
       "             Action|Adventure                                  31\n",
       "             Action|Adventure|Animation                         4\n",
       "             Action|Adventure|Animation|Children's|Fantasy      7\n",
       "             Action|Adventure|Animation|Horror|Sci-Fi           1\n",
       "             Action|Adventure|Children's|Comedy                 4\n",
       "             Action|Adventure|Children's|Sci-Fi                 2\n",
       "             Action|Adventure|Comedy                           10\n",
       "             Action|Adventure|Comedy|Crime                     11\n",
       "             Action|Adventure|Comedy|Horror|Sci-Fi              1\n",
       "             Action|Adventure|Comedy|Romance                   30\n",
       "             Action|Adventure|Comedy|Sci-Fi                    21\n",
       "             Action|Adventure|Crime                             6\n",
       "             Action|Adventure|Crime|Drama                       3\n",
       "             Action|Adventure|Drama                             9\n",
       "             Action|Adventure|Drama|Romance                     4\n",
       "             Action|Adventure|Drama|Sci-Fi|War                 14\n",
       "             Action|Adventure|Fantasy                          13\n",
       "             Action|Adventure|Fantasy|Sci-Fi                   41\n",
       "             Action|Adventure|Horror                            6\n",
       "             Action|Adventure|Horror|Thriller                  10\n",
       "             Action|Adventure|Mystery                           4\n",
       "             Action|Adventure|Mystery|Sci-Fi                    2\n",
       "             Action|Adventure|Romance                          11\n",
       "             Action|Adventure|Romance|Sci-Fi|War               18\n",
       "             Action|Adventure|Romance|Thriller                  6\n",
       "             Action|Adventure|Romance|War                       3\n",
       "             Action|Adventure|Sci-Fi                           44\n",
       "             Action|Adventure|Sci-Fi|Thriller                  21\n",
       "             Action|Adventure|Sci-Fi|War                        2\n",
       "                                                             ... \n",
       "M       56   Film-Noir|Romance|Thriller                        13\n",
       "             Film-Noir|Sci-Fi                                  52\n",
       "             Film-Noir|Sci-Fi|Thriller                          9\n",
       "             Film-Noir|Thriller                                96\n",
       "             Horror                                           128\n",
       "             Horror|Mystery|Thriller                            7\n",
       "             Horror|Romance                                    13\n",
       "             Horror|Sci-Fi                                     87\n",
       "             Horror|Sci-Fi|Thriller                            10\n",
       "             Horror|Thriller                                   84\n",
       "             Musical                                          129\n",
       "             Musical|Romance                                  114\n",
       "             Musical|Romance|War                               15\n",
       "             Musical|War                                       23\n",
       "             Mystery                                           36\n",
       "             Mystery|Romance|Thriller                          17\n",
       "             Mystery|Sci-Fi                                     8\n",
       "             Mystery|Sci-Fi|Thriller                            7\n",
       "             Mystery|Thriller                                 213\n",
       "             Romance                                           22\n",
       "             Romance|Thriller                                  11\n",
       "             Romance|War                                        2\n",
       "             Romance|Western                                   11\n",
       "             Sci-Fi                                           108\n",
       "             Sci-Fi|Thriller                                   43\n",
       "             Sci-Fi|Thriller|War                                7\n",
       "             Sci-Fi|War                                        61\n",
       "             Thriller                                         327\n",
       "             War                                               83\n",
       "             Western                                          270\n",
       "dtype: int64"
      ]
     },
     "execution_count": 95,
     "metadata": {},
     "output_type": "execute_result"
    }
   ],
   "source": [
    "genre_likes.size()"
   ]
  },
  {
   "cell_type": "code",
   "execution_count": null,
   "metadata": {
    "collapsed": true
   },
   "outputs": [],
   "source": []
  }
 ],
 "metadata": {
  "kernelspec": {
   "display_name": "Python 2",
   "language": "python",
   "name": "python2"
  },
  "language_info": {
   "codemirror_mode": {
    "name": "ipython",
    "version": 2
   },
   "file_extension": ".py",
   "mimetype": "text/x-python",
   "name": "python",
   "nbconvert_exporter": "python",
   "pygments_lexer": "ipython2",
   "version": "2.7.9"
  }
 },
 "nbformat": 4,
 "nbformat_minor": 0
}
